{
 "cells": [
  {
   "cell_type": "code",
   "execution_count": 1,
   "metadata": {},
   "outputs": [
    {
     "data": {
      "text/plain": [
       "'Symbol,Side,Cxl,Qty,Price,Bid,Ask,T-DatS-DatTradeID,TradeTiSS,Exbkr,TradeCommType,SourceCommission,Account,OrderID,GTL,Trailer,Info,Clr\\n'"
      ]
     },
     "execution_count": 1,
     "metadata": {},
     "output_type": "execute_result"
    }
   ],
   "source": [
    "with open(\"part2_alt.csv\") as infile:\n",
    "    lines = infile.readlines()\n",
    "\n",
    "header = lines.pop(0)\n",
    "header"
   ]
  },
  {
   "cell_type": "markdown",
   "metadata": {},
   "source": [
    "Actually, due to the splitting of existing columns, the original col headers may not be as useful as I previously proposed, and thus will be discarded."
   ]
  },
  {
   "cell_type": "code",
   "execution_count": 2,
   "metadata": {
    "scrolled": true
   },
   "outputs": [],
   "source": [
    "import csv # since csv was used to write data, it is useful for reading it\n",
    "import re"
   ]
  },
  {
   "cell_type": "code",
   "execution_count": 3,
   "metadata": {},
   "outputs": [],
   "source": [
    "output = []\n",
    "\n",
    "\n",
    "line_reader2 = csv.reader(lines)\n",
    "\n",
    "for line in line_reader2:\n",
    "    \n",
    "    line[3].replace(\",\", \"\")\n",
    "    \n",
    "    if len(line[4]) > 8: # indicates joined prices - normal ones are 2.4 or 2.365 or similar\n",
    "        price1, price2 = line[4].split(\"0000\")[:2]\n",
    "        price2 = price2[price2.find(\".\")-1:] # trim off excess number - should only be one before decimal place\n",
    "        line[4] = price1 + \"0000\"\n",
    "        line.insert(5, price2 + \"0000\")\n",
    "    \n",
    "    enddigits = line[6][-5:]\n",
    "    price3, dateblob = line[6].split(\"0000\")[:2]\n",
    "    date_extract = re.compile(r'(\\d{2}/\\d{2})(\\d{2}/\\d{2})(.+)')    \n",
    "    date1, date2, idnum = date_extract.search(dateblob).groups()\n",
    "    idnum += enddigits\n",
    "    line[6] = price3\n",
    "    line.insert(7, date1)\n",
    "    line.insert(8, date2)\n",
    "    line.insert(9, idnum)\n",
    "    \n",
    "    date_name = line[10].split(\":\")[-1]\n",
    "    line.insert(11, date_name)\n",
    "    line[10] = line[10][:line[10].find(date_name) -1]\n",
    "    \n",
    "    if line[12] != r\"/17\":\n",
    "        to_move_right = line[12:18]\n",
    "        to_move_left = line[18:23]\n",
    "        \n",
    "        line[12:17] = to_move_left\n",
    "        line[16:-1] = to_move_right # yes, overwrite last element of the chunk moved left\n",
    "    \n",
    "    try: # sometimes there's an extra element at the end, sometimes just the part needing splitting\n",
    "        _ = int(line[-1])\n",
    "        last_item = line[-2].split(\"#\")[-1]\n",
    "        line.insert(-1, last_item)\n",
    "        line[-3] = line[-3][:line[-3].find(last_item) -1]\n",
    "    except:              \n",
    "        last_item = line[-1].split(\"#\")[-1]\n",
    "        line.append(last_item)\n",
    "        line[-2] = line[-2][:line[-2].find(last_item) -1]\n",
    "    \n",
    "    output.append(line)\n",
    "\n",
    "#output"
   ]
  },
  {
   "cell_type": "code",
   "execution_count": 4,
   "metadata": {},
   "outputs": [],
   "source": [
    "with open(\"final.csv\", \"w+\") as of:\n",
    "    writer = csv.writer(of)\n",
    "    writer.writerows(output)"
   ]
  }
 ],
 "metadata": {
  "kernelspec": {
   "display_name": "Python 3",
   "language": "python",
   "name": "python3"
  },
  "language_info": {
   "codemirror_mode": {
    "name": "ipython",
    "version": 3
   },
   "file_extension": ".py",
   "mimetype": "text/x-python",
   "name": "python",
   "nbconvert_exporter": "python",
   "pygments_lexer": "ipython3",
   "version": "3.7.6"
  }
 },
 "nbformat": 4,
 "nbformat_minor": 4
}
