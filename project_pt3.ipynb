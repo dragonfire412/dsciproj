{
 "cells": [
  {
   "cell_type": "code",
   "execution_count": 1,
   "metadata": {
    "scrolled": true
   },
   "outputs": [],
   "source": [
    "with open(\"part2_alt.csv\") as infile:\n",
    "    lines = infile.readlines()\n",
    "\n",
    "headers = lines.pop(0).strip().split(\",\")"
   ]
  },
  {
   "cell_type": "code",
   "execution_count": 2,
   "metadata": {
    "scrolled": true
   },
   "outputs": [],
   "source": [
    "import csv # since csv was used to write data, it is useful for reading it\n",
    "import re"
   ]
  },
  {
   "cell_type": "markdown",
   "metadata": {},
   "source": [
    "> Due to the structure of the data (a list of lists of elements), neither list comprehensions nor piping seem to be a good fit for processing. Even with multiple comprehensions/pipes, the need to insert data as its own column and switch items around are complicated to implement. Hence an iterative approach is used instead, which will process an entire row of data at a time, rather than trying to apply a process to the same chunk of each line. A function/lambda expression could be defined for each step and used with comprehension/piping, but this just boils down to semantic differences (e.g. \"for l in lines: f(l)\" vs \"\\[f(l) for l in lines\\]\" vs \"lines >> map(f)\")."
   ]
  },
  {
   "cell_type": "markdown",
   "metadata": {},
   "source": [
    "> Updates to the headers are based on my best guess of what they are supposed to represent"
   ]
  },
  {
   "cell_type": "code",
   "execution_count": 3,
   "metadata": {},
   "outputs": [],
   "source": [
    "line_reader = csv.reader(lines) # used to handle the cases of values containing commas themselves, which are quote-wrapped\n",
    "\n",
    "processed_lines = []\n",
    "\n",
    "for line in line_reader:\n",
    "    \n",
    "    # handle commas in Qty (e.g. 2,756) - csv library dealt with issue of reading it in\n",
    "    line[3] = line[3].replace(\",\", \"\")\n",
    "    \n",
    "    # handle joined price and bid\n",
    "    # The price field contains extra chracters\n",
    "    if len(line[4]) > 8:\n",
    "        bid_start = line[4].find(\".\", 2) -1 # start at index 2 to skip first decimal place\n",
    "        price = line[4][:bid_start]\n",
    "        bid = line[4][bid_start:]\n",
    "        line[4] = price\n",
    "        line.insert(5, bid)\n",
    "\n",
    "    # handle glob of ask, 2 dates, and an id\n",
    "    data_extract = re.compile(r'(\\d+\\.\\d+)(\\d{2}/\\d{2})(\\d{2}/\\d{2})(.+)')    \n",
    "    ask, date1, date2, idnum = data_extract.search(line[6]).groups()\n",
    "    line[6] = ask\n",
    "    line.insert(7, date1)\n",
    "    headers[7] = \"Date1\"\n",
    "    line.insert(8, date2)\n",
    "    line.insert(9, idnum)\n",
    "    \n",
    "    # handle time and label\n",
    "    second_colon = line[10].find(\":\", 4)\n",
    "    label = line[10][second_colon+1:]\n",
    "    line[10] = line[10][:second_colon]\n",
    "    line.insert(11, label)\n",
    "   \n",
    "    # handle transposed data\n",
    "    if line[12] == r\"/17\":\n",
    "        # this order makes more sense according to how I understand the headers\n",
    "        to_move_right = line[12:16]\n",
    "        to_move_left = line[16:22]\n",
    "        \n",
    "        line[12:18] = to_move_left\n",
    "        line[18:22] = to_move_right\n",
    "    \n",
    "    # handle number and STA=\n",
    "    gtl_num, gtl_sta = line[17].split(\"#\")\n",
    "    line[17] = gtl_num\n",
    "    line.insert(18, gtl_sta.split(\"=\")[1])\n",
    "    \n",
    "    # sometimes last element is empty - fill with 0 for consistent row length.\n",
    "    # I think it's a categorical value, anyway, if it is meaningful at all.\n",
    "    if len(line) == 23:\n",
    "        line.append(\"0\")\n",
    "    \n",
    "    processed_lines.append(line)\n",
    "\n",
    "\n",
    "# One-time header work - don't want to do this for every iteration of the loop\n",
    "headers.insert(8, \"Date2\")   \n",
    "headers.insert(9, \"TradeID\")\n",
    "headers.insert(11, \"Label\")\n",
    "headers.insert(18, \"GTL-STA\")\n",
    "headers.insert(22, \"Val1\") # no idea what this is supposed to be\n",
    "headers.insert(23, \"Val2\") # same"
   ]
  },
  {
   "cell_type": "code",
   "execution_count": 4,
   "metadata": {},
   "outputs": [],
   "source": [
    "with open(\"final.csv\", \"w+\") as of:\n",
    "    writer = csv.writer(of)\n",
    "    writer.writerow(headers)\n",
    "    writer.writerows(processed_lines)"
   ]
  }
 ],
 "metadata": {
  "kernelspec": {
   "display_name": "Python 3",
   "language": "python",
   "name": "python3"
  },
  "language_info": {
   "codemirror_mode": {
    "name": "ipython",
    "version": 3
   },
   "file_extension": ".py",
   "mimetype": "text/x-python",
   "name": "python",
   "nbconvert_exporter": "python",
   "pygments_lexer": "ipython3",
   "version": "3.7.6"
  }
 },
 "nbformat": 4,
 "nbformat_minor": 4
}
